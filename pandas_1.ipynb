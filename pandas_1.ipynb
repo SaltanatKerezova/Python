{
 "cells": [
  {
   "cell_type": "code",
   "execution_count": 5,
   "metadata": {},
   "outputs": [],
   "source": [
    "import pandas as pd\n",
    "food = pd.read_csv('food_sample_100.csv')\n"
   ]
  },
  {
   "cell_type": "markdown",
   "metadata": {},
   "source": []
  },
  {
   "cell_type": "code",
   "execution_count": 6,
   "metadata": {},
   "outputs": [
    {
     "ename": "NameError",
     "evalue": "name 'food_nutrient' is not defined",
     "output_type": "error",
     "traceback": [
      "\u001b[0;31m---------------------------------------------------------------------------\u001b[0m",
      "\u001b[0;31mNameError\u001b[0m                                 Traceback (most recent call last)",
      "Cell \u001b[0;32mIn[6], line 1\u001b[0m\n\u001b[0;32m----> 1\u001b[0m magnesium \u001b[38;5;241m=\u001b[39m \u001b[43mfood_nutrient\u001b[49m[food_nutrient[\u001b[38;5;124m\"\u001b[39m\u001b[38;5;124mname\u001b[39m\u001b[38;5;124m\"\u001b[39m] \u001b[38;5;241m==\u001b[39m \u001b[38;5;124m\"\u001b[39m\u001b[38;5;124mMagnesium, Mg\u001b[39m\u001b[38;5;124m\"\u001b[39m]\n",
      "\u001b[0;31mNameError\u001b[0m: name 'food_nutrient' is not defined"
     ]
    }
   ],
   "source": [
    "magnesium = food_nutrient[food_nutrient[\"name\"] == \"Magnesium, Mg\"]"
   ]
  },
  {
   "cell_type": "code",
   "execution_count": 7,
   "metadata": {},
   "outputs": [
    {
     "name": "stdout",
     "output_type": "stream",
     "text": [
      "     fdc_id           data_type  \\\n",
      "95  2260615     sub_sample_food   \n",
      "96  2646468     sub_sample_food   \n",
      "97  2647032     sub_sample_food   \n",
      "98  2349564     sub_sample_food   \n",
      "99   328565  market_acquisition   \n",
      "\n",
      "                                          description  food_category_id  \\\n",
      "95                          Yogurt, whole milk, plain               1.0   \n",
      "96                chicken, breast, boneless, skinless               5.0   \n",
      "97                               pork, loin, boneless              10.0   \n",
      "98           Oats, whole grain, rolled, old fashioned              20.0   \n",
      "99  Cheese, cheddar, mild, block/chunk, store bran...               1.0   \n",
      "\n",
      "   publication_date  \n",
      "95       2022-04-28  \n",
      "96       2023-10-19  \n",
      "97       2023-10-19  \n",
      "98       2022-10-28  \n",
      "99       2019-04-01  \n"
     ]
    }
   ],
   "source": [
    "print(food.tail())"
   ]
  }
 ],
 "metadata": {
  "kernelspec": {
   "display_name": "Python 3",
   "language": "python",
   "name": "python3"
  },
  "language_info": {
   "codemirror_mode": {
    "name": "ipython",
    "version": 3
   },
   "file_extension": ".py",
   "mimetype": "text/x-python",
   "name": "python",
   "nbconvert_exporter": "python",
   "pygments_lexer": "ipython3",
   "version": "3.11.4"
  }
 },
 "nbformat": 4,
 "nbformat_minor": 2
}

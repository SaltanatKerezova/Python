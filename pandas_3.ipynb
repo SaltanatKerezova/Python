{
 "cells": [
  {
   "cell_type": "code",
   "execution_count": 2,
   "metadata": {},
   "outputs": [],
   "source": [
    "import pandas as pd"
   ]
  },
  {
   "cell_type": "code",
   "execution_count": 4,
   "metadata": {},
   "outputs": [],
   "source": [
    "url_branded_food = \"https://kodim.cz/cms/assets/czechitas/python-data-1/python-pro-data-1/spojovani/excs/znacky/branded_food.csv\"\n",
    "branded_food = pd.read_csv('branded_food.csv')"
   ]
  },
  {
   "cell_type": "code",
   "execution_count": 5,
   "metadata": {},
   "outputs": [
    {
     "data": {
      "text/html": [
       "<div>\n",
       "<style scoped>\n",
       "    .dataframe tbody tr th:only-of-type {\n",
       "        vertical-align: middle;\n",
       "    }\n",
       "\n",
       "    .dataframe tbody tr th {\n",
       "        vertical-align: top;\n",
       "    }\n",
       "\n",
       "    .dataframe thead th {\n",
       "        text-align: right;\n",
       "    }\n",
       "</style>\n",
       "<table border=\"1\" class=\"dataframe\">\n",
       "  <thead>\n",
       "    <tr style=\"text-align: right;\">\n",
       "      <th></th>\n",
       "      <th>fdc_id</th>\n",
       "      <th>brand_owner</th>\n",
       "      <th>brand_name</th>\n",
       "      <th>subbrand_name</th>\n",
       "      <th>gtin_upc</th>\n",
       "      <th>ingredients</th>\n",
       "      <th>not_a_significant_source_of</th>\n",
       "      <th>serving_size</th>\n",
       "      <th>serving_size_unit</th>\n",
       "      <th>household_serving_fulltext</th>\n",
       "      <th>branded_food_category</th>\n",
       "      <th>data_source</th>\n",
       "      <th>package_weight</th>\n",
       "      <th>modified_date</th>\n",
       "      <th>available_date</th>\n",
       "      <th>market_country</th>\n",
       "      <th>discontinued_date</th>\n",
       "      <th>preparation_state_code</th>\n",
       "      <th>trade_channel</th>\n",
       "      <th>short_description</th>\n",
       "    </tr>\n",
       "  </thead>\n",
       "  <tbody>\n",
       "    <tr>\n",
       "      <th>0</th>\n",
       "      <td>1106032</td>\n",
       "      <td>BRAKEBUSH BROTHERS INC.</td>\n",
       "      <td>NaN</td>\n",
       "      <td>NaN</td>\n",
       "      <td>10038034720202</td>\n",
       "      <td>INGREDIENTS: BONELESS CHICKEN BREAST MEAT WITH...</td>\n",
       "      <td>NaN</td>\n",
       "      <td>85.0</td>\n",
       "      <td>g</td>\n",
       "      <td>NaN</td>\n",
       "      <td>Meat/Poultry/Other Animals  Prepared/Processed</td>\n",
       "      <td>GDSN</td>\n",
       "      <td>NaN</td>\n",
       "      <td>2020-09-03</td>\n",
       "      <td>2020-11-13</td>\n",
       "      <td>United States</td>\n",
       "      <td>NaN</td>\n",
       "      <td>NaN</td>\n",
       "      <td>NaN</td>\n",
       "      <td>NaN</td>\n",
       "    </tr>\n",
       "    <tr>\n",
       "      <th>1</th>\n",
       "      <td>1107191</td>\n",
       "      <td>Mahco Inc</td>\n",
       "      <td>NaN</td>\n",
       "      <td>NaN</td>\n",
       "      <td>877448001674</td>\n",
       "      <td>TOMATO PUREE (TOMATOES), CARROTS, ONIONS, SUN-...</td>\n",
       "      <td>NaN</td>\n",
       "      <td>125.0</td>\n",
       "      <td>g</td>\n",
       "      <td>NaN</td>\n",
       "      <td>Prepared Pasta &amp; Pizza Sauces</td>\n",
       "      <td>LI</td>\n",
       "      <td>NaN</td>\n",
       "      <td>2020-09-22</td>\n",
       "      <td>2020-11-13</td>\n",
       "      <td>United States</td>\n",
       "      <td>NaN</td>\n",
       "      <td>NaN</td>\n",
       "      <td>NaN</td>\n",
       "      <td>NaN</td>\n",
       "    </tr>\n",
       "  </tbody>\n",
       "</table>\n",
       "</div>"
      ],
      "text/plain": [
       "    fdc_id              brand_owner brand_name subbrand_name        gtin_upc  \\\n",
       "0  1106032  BRAKEBUSH BROTHERS INC.        NaN           NaN  10038034720202   \n",
       "1  1107191                Mahco Inc        NaN           NaN    877448001674   \n",
       "\n",
       "                                         ingredients  \\\n",
       "0  INGREDIENTS: BONELESS CHICKEN BREAST MEAT WITH...   \n",
       "1  TOMATO PUREE (TOMATOES), CARROTS, ONIONS, SUN-...   \n",
       "\n",
       "  not_a_significant_source_of  serving_size serving_size_unit  \\\n",
       "0                         NaN          85.0                 g   \n",
       "1                         NaN         125.0                 g   \n",
       "\n",
       "  household_serving_fulltext                           branded_food_category  \\\n",
       "0                        NaN  Meat/Poultry/Other Animals  Prepared/Processed   \n",
       "1                        NaN                   Prepared Pasta & Pizza Sauces   \n",
       "\n",
       "  data_source package_weight modified_date available_date market_country  \\\n",
       "0        GDSN            NaN    2020-09-03     2020-11-13  United States   \n",
       "1          LI            NaN    2020-09-22     2020-11-13  United States   \n",
       "\n",
       "   discontinued_date preparation_state_code trade_channel short_description  \n",
       "0                NaN                    NaN           NaN               NaN  \n",
       "1                NaN                    NaN           NaN               NaN  "
      ]
     },
     "execution_count": 5,
     "metadata": {},
     "output_type": "execute_result"
    }
   ],
   "source": [
    "branded_food.head(2)"
   ]
  },
  {
   "cell_type": "code",
   "execution_count": 6,
   "metadata": {},
   "outputs": [
    {
     "data": {
      "text/plain": [
       "brand_owner\n",
       "Wal-Mart Stores, Inc.    219\n",
       "Target Stores            199\n",
       "Meijer, Inc.             168\n",
       "Name: count, dtype: int64"
      ]
     },
     "execution_count": 6,
     "metadata": {},
     "output_type": "execute_result"
    }
   ],
   "source": [
    "branded_food['brand_owner'].value_counts().head(3)"
   ]
  },
  {
   "cell_type": "code",
   "execution_count": 7,
   "metadata": {},
   "outputs": [
    {
     "data": {
      "text/plain": [
       "branded_food_category\n",
       "Popcorn, Peanuts, Seeds & Related Snacks    504\n",
       "Candy                                       415\n",
       "Cheese                                      405\n",
       "Ice Cream & Frozen Yogurt                   310\n",
       "Cookies & Biscuits                          272\n",
       "Name: count, dtype: int64"
      ]
     },
     "execution_count": 7,
     "metadata": {},
     "output_type": "execute_result"
    }
   ],
   "source": [
    "branded_food['branded_food_category'].value_counts().head(5)"
   ]
  },
  {
   "cell_type": "code",
   "execution_count": 9,
   "metadata": {},
   "outputs": [
    {
     "ename": "NameError",
     "evalue": "name 'food_merged' is not defined",
     "output_type": "error",
     "traceback": [
      "\u001b[0;31m---------------------------------------------------------------------------\u001b[0m",
      "\u001b[0;31mNameError\u001b[0m                                 Traceback (most recent call last)",
      "Cell \u001b[0;32mIn[9], line 1\u001b[0m\n\u001b[0;32m----> 1\u001b[0m food_merged_brands \u001b[38;5;241m=\u001b[39m pd\u001b[38;5;241m.\u001b[39mmerge(\u001b[43mfood_merged\u001b[49m, branded_food, right_on\u001b[38;5;241m=\u001b[39m\u001b[38;5;124m\"\u001b[39m\u001b[38;5;124mfdc_id\u001b[39m\u001b[38;5;124m\"\u001b[39m, left_on\u001b[38;5;241m=\u001b[39m\u001b[38;5;124m\"\u001b[39m\u001b[38;5;124mfdc_id\u001b[39m\u001b[38;5;124m\"\u001b[39m)\n",
      "\u001b[0;31mNameError\u001b[0m: name 'food_merged' is not defined"
     ]
    }
   ],
   "source": [
    "food_merged_brands = pd.merge(food_merged, branded_food, right_on=\"fdc_id\", left_on=\"fdc_id\")"
   ]
  },
  {
   "cell_type": "code",
   "execution_count": null,
   "metadata": {},
   "outputs": [],
   "source": [
    "print(food_merged_brands.shape)\n",
    "print(food_merged.shape)"
   ]
  },
  {
   "cell_type": "code",
   "execution_count": 10,
   "metadata": {},
   "outputs": [
    {
     "ename": "NameError",
     "evalue": "name 'food_merged_brands' is not defined",
     "output_type": "error",
     "traceback": [
      "\u001b[0;31m---------------------------------------------------------------------------\u001b[0m",
      "\u001b[0;31mNameError\u001b[0m                                 Traceback (most recent call last)",
      "Cell \u001b[0;32mIn[10], line 1\u001b[0m\n\u001b[0;32m----> 1\u001b[0m \u001b[38;5;28mprint\u001b[39m(\u001b[43mfood_merged_brands\u001b[49m\u001b[38;5;241m.\u001b[39mshape)\n\u001b[1;32m      2\u001b[0m \u001b[38;5;28mprint\u001b[39m(food_merged\u001b[38;5;241m.\u001b[39mshape)\n",
      "\u001b[0;31mNameError\u001b[0m: name 'food_merged_brands' is not defined"
     ]
    }
   ],
   "source": [
    "print(food_merged_brands.shape)\n",
    "print(food_merged.shape)"
   ]
  },
  {
   "cell_type": "code",
   "execution_count": null,
   "metadata": {},
   "outputs": [],
   "source": [
    "food_merged_brands = pd.merge(food_merged, branded_food, right_on=\"fdc_id\", left_on=\"fdc_id\", how=\"left\")\n",
    "print(food_merged_brands.shape)\n",
    "print(food_merged.shape)"
   ]
  }
 ],
 "metadata": {
  "kernelspec": {
   "display_name": "Python 3",
   "language": "python",
   "name": "python3"
  },
  "language_info": {
   "codemirror_mode": {
    "name": "ipython",
    "version": 3
   },
   "file_extension": ".py",
   "mimetype": "text/x-python",
   "name": "python",
   "nbconvert_exporter": "python",
   "pygments_lexer": "ipython3",
   "version": "3.11.4"
  }
 },
 "nbformat": 4,
 "nbformat_minor": 2
}

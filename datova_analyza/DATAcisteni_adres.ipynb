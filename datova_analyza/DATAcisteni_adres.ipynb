{
 "cells": [
  {
   "cell_type": "code",
   "execution_count": null,
   "id": "908ac477-619f-4393-82b1-a2478ff83144",
   "metadata": {
    "id": "908ac477-619f-4393-82b1-a2478ff83144"
   },
   "outputs": [],
   "source": [
    "import requests\n",
    "import pandas as pd\n",
    "import xlrd\n",
    "from IPython.display import clear_output\n",
    "import time"
   ]
  },
  {
   "cell_type": "code",
   "execution_count": null,
   "id": "efc05371-a630-4d31-a1b2-6c22096e2a7d",
   "metadata": {
    "id": "efc05371-a630-4d31-a1b2-6c22096e2a7d"
   },
   "outputs": [],
   "source": [
    "filePath = 'in/tables/DobijeciStanice.csv' #ZDE ZMĚŇTE CESTU KE VSTUPNÍMU SOUBORU\n",
    "fileType = ['CSV', 'EXCEL'][0] #ZDE ZMĚŇTE POUZE INDEX (0 PRO CSV, 1 PRO EXCEL)\n",
    "encoding = 'utf-8-sig' #ZDE ZMĚŇTE KÓDOVÁNÍ, ABY SEDĚLO S TÍM, KTERÉ JSTE POUŽILI VE VSTUPNÍM SOUBORU\n",
    "delimiter = ',' #ZDE ZMĚŇTE ODDĚLOVAČ, ABY SEDĚL S TÍM, KTERÝ JSTE POUŽILI VE VSTUPNÍM SOUBORU\n",
    "decimal = ',' #ZDE NASTAVTE ODDĚLOVAČ DESETINNÝCH MÍST, KTERÝ JSTE POUŽILI VE VSTUPNÍM SOUBORU\n",
    "\n",
    "cityColumnName = 'obec' #ZDE NASTAVTE NÁZEV SLOUPCE S MĚSTEM\n",
    "streetColumnName = 'ulice' #ZDE NASTAVTE NÁZEV SLOUPCE S ULICÍ\n",
    "\n",
    "outputFile = 'out/tables/doplnene_souradnice.csv' #SOUBOR MUSÍ BÝT CSV"
   ]
  },
  {
   "cell_type": "code",
   "execution_count": null,
   "id": "94751cf6-6c7d-4a40-8f36-f75e78bc2fc0",
   "metadata": {
    "id": "94751cf6-6c7d-4a40-8f36-f75e78bc2fc0"
   },
   "outputs": [],
   "source": [
    "def preparePossibleAddresses( city, street):\n",
    "    if 'Praha' in city:\n",
    "        city = 'Praha'\n",
    "    possibleStreets = list( set( [street] + street.split(' ') + street.split('.') ) )\n",
    "    possibleStreets.sort(key=len, reverse = True)\n",
    "    return [ str( city ) + ' ' + str( pStreet ) for pStreet in possibleStreets] + [ str( city ) + ' ' + str( pStreet ).split('/')[-1] for pStreet in possibleStreets]\n",
    "\n",
    "def getGPSLocation( city, street ):\n",
    "    preparedAddresses = preparePossibleAddresses( city, street)\n",
    "    for address in preparedAddresses:\n",
    "        try:\n",
    "            URL = 'https://nominatim.openstreetmap.org/search?q=<<adresa>>&format=json'\n",
    "            r = requests.get(url = URL.replace('<<adresa>>', address.replace( ' ', '+' ) ))\n",
    "            data = r.json()\n",
    "            return { 'latitude': data[0]['lat'], 'longitude': data[0]['lon'] }\n",
    "        except Exception as e:\n",
    "            pass\n",
    "    return { 'latitude': 0, 'longitude': 0 }\n",
    "\n",
    "def getEstimatedTimeString( estimatedTime ):\n",
    "    hours = int( estimatedTime / 3600 )\n",
    "    minutes = int( ( estimatedTime - hours * 3600 ) / 60 )\n",
    "    seconds = int( estimatedTime - minutes * 60 - hours * 3600 )\n",
    "    hoursStringPart = [str(hours), '0' + str(hours)][hours<10]\n",
    "    minutesStringPart = [str(minutes), '0' + str(minutes)][minutes<10]\n",
    "    secondsStringPart = [str(seconds), '0' + str(seconds)][seconds<10]\n",
    "    return hoursStringPart + ':' + minutesStringPart + ':' + secondsStringPart"
   ]
  },
  {
   "cell_type": "code",
   "execution_count": null,
   "id": "3c954cc6-d3d0-4ae5-bb8b-5593c128022d",
   "metadata": {
    "id": "3c954cc6-d3d0-4ae5-bb8b-5593c128022d"
   },
   "outputs": [],
   "source": [
    "data = None\n",
    "data = pd.read_csv( filePath, encoding = encoding, sep = delimiter, decimal = decimal )"
   ]
  },
  {
   "cell_type": "code",
   "execution_count": null,
   "id": "a5f3c086-163d-4ff4-9396-623fd2c666aa",
   "metadata": {
    "id": "a5f3c086-163d-4ff4-9396-623fd2c666aa"
   },
   "outputs": [],
   "source": [
    "df = pd.DataFrame(data).set_index('radek_c')"
   ]
  },
  {
   "cell_type": "code",
   "execution_count": null,
   "id": "8d44b71e-fa6d-434c-a85e-9cfd511b1c49",
   "metadata": {
    "tags": []
   },
   "outputs": [],
   "source": [
    "df.loc[1322,'severni_sirka'] = float('NaN')"
   ]
  },
  {
   "cell_type": "code",
   "execution_count": null,
   "id": "dfd2d068-ebc8-4f37-b00b-7fa1089d5931",
   "metadata": {
    "tags": []
   },
   "outputs": [],
   "source": [
    "#df.loc[1322]"
   ]
  },
  {
   "cell_type": "code",
   "execution_count": null,
   "id": "9081dba9-90aa-433f-adea-f079743a892d",
   "metadata": {
    "id": "9081dba9-90aa-433f-adea-f079743a892d"
   },
   "outputs": [],
   "source": [
    "# Výběr řádků, kde obsah sloupce 'severni_sirka' je NaN\n",
    "filtered = df[df['severni_sirka'].isna()]"
   ]
  },
  {
   "cell_type": "code",
   "execution_count": null,
   "id": "c01c9740-a6da-47bb-8aa9-9071cc5e5156",
   "metadata": {
    "id": "c01c9740-a6da-47bb-8aa9-9071cc5e5156",
    "tags": []
   },
   "outputs": [],
   "source": [
    "filtered_df = filtered"
   ]
  },
  {
   "cell_type": "code",
   "execution_count": null,
   "id": "61695e01-14cd-411b-85b4-00c1be19076e",
   "metadata": {
    "id": "61695e01-14cd-411b-85b4-00c1be19076e",
    "tags": []
   },
   "outputs": [],
   "source": [
    "newLatitudes = []\n",
    "newLongitudes = []\n",
    "actualRow = 0\n",
    "startTime = time.time( )\n",
    "for row in filtered_df.iloc:\n",
    "    GPSCoordinates = getGPSLocation( row[cityColumnName], row[streetColumnName] )\n",
    "    #row['severni_sirka'] = GPSCoordinates['latitude']\n",
    "    newLatitudes.append( GPSCoordinates['latitude'] )\n",
    "    newLongitudes.append( GPSCoordinates['longitude'] )\n",
    "    actualTime = time.time( )\n",
    "    oneRowTime = ( actualTime - startTime ) / ( actualRow + 1 )\n",
    "    estimatedTime = oneRowTime * ( len( filtered_df ) - ( actualRow + 1 ) )\n",
    "    clear_output(wait=True)\n",
    "    print( 'Dokončeno: ', int( ( actualRow + 1 ) / len( filtered_df ) * 100 ), '% ... Odhadovaný čas: ' + getEstimatedTimeString( estimatedTime ) )\n",
    "    print( row[cityColumnName])\n",
    "    actualRow += 1"
   ]
  },
  {
   "cell_type": "code",
   "execution_count": null,
   "id": "7b5fbe79-77e2-4ce9-bd24-41de3d600593",
   "metadata": {},
   "outputs": [],
   "source": [
    "filtered_df = filtered_df.assign(severni_sirka = newLatitudes)\n",
    "filtered_df = filtered_df.assign(vychodni_delka = newLongitudes)\n",
    "filtered_df['severni_sirka'] = filtered_df['severni_sirka'].astype( 'float64' ).round( 6 )\n",
    "filtered_df['vychodni_delka'] = filtered_df['vychodni_delka'].astype( 'float64' ).round( 6 )"
   ]
  },
  {
   "cell_type": "code",
   "execution_count": null,
   "id": "9b92ffa4-59b1-422f-9780-7441e7fcf554",
   "metadata": {
    "id": "9b92ffa4-59b1-422f-9780-7441e7fcf554"
   },
   "outputs": [],
   "source": [
    "filtered_df.to_csv( outputFile, encoding = encoding, sep = delimiter, decimal = decimal )"
   ]
  },
  {
   "cell_type": "code",
   "execution_count": null,
   "id": "8852646f-38c8-4b27-8fda-19e4c85240f6",
   "metadata": {
    "id": "8852646f-38c8-4b27-8fda-19e4c85240f6"
   },
   "outputs": [],
   "source": [
    "# Výběr řádků, kde obsah sloupce 'severni_sirka' neni NaN\n",
    "spravne = df[df['severni_sirka'].notna()]"
   ]
  },
  {
   "cell_type": "code",
   "execution_count": null,
   "id": "881b8595-c458-4c52-a652-27d681ec86c9",
   "metadata": {
    "id": "881b8595-c458-4c52-a652-27d681ec86c9"
   },
   "outputs": [],
   "source": [
    "spravne.to_csv( outputFile, encoding = encoding, sep = delimiter, decimal = decimal, mode = 'a', header = False )"
   ]
  }
 ],
 "metadata": {
  "colab": {
   "provenance": []
  },
  "kernelspec": {
   "display_name": "Python 3 (ipykernel)",
   "language": "python",
   "name": "python3"
  },
  "language_info": {
   "codemirror_mode": {
    "name": "ipython",
    "version": 3
   },
   "file_extension": ".py",
   "mimetype": "text/x-python",
   "name": "python",
   "nbconvert_exporter": "python",
   "pygments_lexer": "ipython3",
   "version": "3.10.4"
  }
 },
 "nbformat": 4,
 "nbformat_minor": 5
}
